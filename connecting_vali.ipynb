{
 "cells": [
  {
   "cell_type": "code",
   "execution_count": 1,
   "metadata": {},
   "outputs": [],
   "source": [
    "# https://docs.bittensor.com/subnets/register-validate-mine#check-the-permit-status\n",
    "\"\"\"\n",
    "Except in Subnet 1, all subnets have 256 UID slots per subnet. Of these 256 UID slots,\n",
    "a subnet can have a maximum of 64 subnet validator UIDs and 192 (i.e., 256-64) UIDs for subnet miners.\n",
    "\"\"\"\n",
    "\n",
    "import bittensor as bt\n",
    "import asyncio\n",
    "\n",
    "NET_UID = 61\n",
    "NETWORK = \"test\"\n",
    "WALLET = \"validator\""
   ]
  },
  {
   "cell_type": "code",
   "execution_count": 2,
   "metadata": {},
   "outputs": [
    {
     "name": "stdout",
     "output_type": "stream",
     "text": [
      "Hotkey 5Fk35HgrTqqUffK7WN8FG4euZ8MpKx35mUYz9kgwj3UDnNHr is registered. UID: 166\n"
     ]
    }
   ],
   "source": [
    "# Initialize your wallet\n",
    "wallet = bt.wallet(name=WALLET)\n",
    "\n",
    "# Initialize the subtensor\n",
    "subtensor = bt.subtensor(network=NETWORK)\n",
    "\n",
    "# Fetch the metagraph\n",
    "subnet = subtensor.metagraph(netuid=NET_UID)\n",
    "\n",
    "# Replace below with your SS58 hotkey \n",
    "hotkey = wallet.hotkey.ss58_address\n",
    "my_uid = subnet.hotkeys.index(wallet.hotkey.ss58_address)\n",
    "sub = bt.subtensor(NETWORK)\n",
    "mg = sub.metagraph(NET_UID)\n",
    "if hotkey not in mg.hotkeys:\n",
    "    print(f\"Hotkey {hotkey} deregistered\")\n",
    "else:\n",
    "    print(f\"Hotkey {hotkey} is registered. UID: {my_uid}\")"
   ]
  },
  {
   "cell_type": "code",
   "execution_count": 3,
   "metadata": {},
   "outputs": [
    {
     "data": {
      "text/plain": [
       "202"
      ]
     },
     "execution_count": 3,
     "metadata": {},
     "output_type": "execute_result"
    }
   ],
   "source": [
    "len(subnet.validator_permit)"
   ]
  },
  {
   "cell_type": "code",
   "execution_count": 4,
   "metadata": {},
   "outputs": [
    {
     "name": "stdout",
     "output_type": "stream",
     "text": [
      "Active UIDs (total: 202): [0, 1, 2, 3, 4, 5, 6, 7, 8, 9, 10, 11, 12, 13, 14, 15, 16, 17, 18, 19, 20, 21, 22, 23, 24, 25, 26, 27, 28, 29, 30, 31, 32, 33, 34, 35, 36, 37, 38, 39, 40, 41, 42, 43, 44, 45, 46, 47, 48, 49, 50, 51, 52, 53, 54, 55, 56, 57, 58, 59, 60, 61, 62, 63, 64, 65, 66, 67, 68, 69, 70, 71, 72, 73, 74, 75, 76, 77, 78, 79, 80, 81, 82, 83, 84, 85, 86, 87, 88, 89, 90, 91, 92, 93, 94, 95, 96, 97, 98, 99, 100, 101, 102, 103, 104, 105, 106, 107, 108, 109, 110, 111, 112, 113, 114, 115, 116, 117, 118, 119, 120, 121, 122, 123, 124, 125, 126, 127, 128, 129, 130, 131, 132, 133, 134, 135, 136, 137, 138, 139, 140, 141, 142, 143, 144, 145, 146, 147, 148, 149, 150, 151, 152, 153, 154, 155, 156, 157, 158, 159, 160, 161, 162, 163, 164, 165, 166, 167, 168, 169, 170, 171, 172, 173, 174, 175, 176, 177, 178, 179, 180, 181, 182, 183, 184, 185, 186, 187, 188, 189, 190, 191, 192, 193, 194, 195, 196, 197, 198, 199, 200, 201]\n",
      "My hotkey is active: True\n"
     ]
    }
   ],
   "source": [
    "# Extract active UIDs\n",
    "active_uids = subnet.uids.tolist()\n",
    "\n",
    "# Print the active UIDs\n",
    "print(f\"Active UIDs (total: {len(active_uids)}): {active_uids}\")\n",
    "print(f\"My hotkey is active: {my_uid in active_uids}\")"
   ]
  },
  {
   "cell_type": "code",
   "execution_count": 5,
   "metadata": {},
   "outputs": [
    {
     "data": {
      "text/plain": [
       "False"
      ]
     },
     "execution_count": 5,
     "metadata": {},
     "output_type": "execute_result"
    }
   ],
   "source": [
    "subnet.validator_permit[my_uid]"
   ]
  },
  {
   "cell_type": "code",
   "execution_count": 6,
   "metadata": {},
   "outputs": [
    {
     "data": {
      "text/plain": [
       "(202,)"
      ]
     },
     "execution_count": 6,
     "metadata": {},
     "output_type": "execute_result"
    }
   ],
   "source": [
    "subnet.validator_permit.shape # 1000+ tao"
   ]
  },
  {
   "cell_type": "code",
   "execution_count": 10,
   "metadata": {},
   "outputs": [],
   "source": [
    "# Sample validators.\n",
    "# Define your request payload (e.g., a text prompting request)\n",
    "# import time\n",
    "from prompting.protocol import StreamPromptingSynapse\n",
    "# request_payload = bt.synapse.TextPrompting(\n",
    "#     text=\"Hello, can you process this request?\"\n",
    "# )\n",
    "# request_payload\n",
    "\n",
    "# Get the list of uids to query for this step.\n",
    "# uids = get_random_uids(self, k=k, exclude=exclude or []).to(self.device)\n",
    "# uids = get_random_uids(self, k=k, exclude=exclude or []).to(self.device)\n",
    "# uids_cpu = uids.cpu().tolist()\n",
    "\n",
    "uids = [my_uid]\n",
    "axons = [subnet.axons[uid] for uid in uids]\n",
    "\n",
    "# # Directly call dendrite and process responses in parallel\n",
    "dendrite = bt.dendrite(wallet=wallet)\n",
    "roles = [\"user\"]\n",
    "messages = [\"Capital of Zimbabwe?\"]\n",
    "timeout = 17\n",
    "streams_responses = await dendrite(\n",
    "    axons=axons,\n",
    "    synapse=StreamPromptingSynapse(roles=roles, messages=messages),\n",
    "    timeout=timeout,\n",
    "    deserialize=False,\n",
    "    streaming=True,\n",
    ")"
   ]
  },
  {
   "cell_type": "code",
   "execution_count": 11,
   "metadata": {},
   "outputs": [
    {
     "name": "stderr",
     "output_type": "stream",
     "text": [
      "Special tokens have been added in the vocabulary, make sure the associated word embeddings are fine-tuned or trained.\n",
      "INFO:bittensor: - Created DendriteResponseEvent:\n",
      " DendriteResponseEvent(uids=[166], completions=[''], timings=[17], status_messages=['Timedout after 17.0 seconds.'], status_codes=[408]) - \n"
     ]
    }
   ],
   "source": [
    "# Prepare the task for handling stream responses\n",
    "from prompting.dendrite import DendriteResponseEvent\n",
    "from prompting.forward import handle_response\n",
    "from transformers import AutoTokenizer\n",
    "\n",
    "stream_results_dict = dict(zip(uids, streams_responses))\n",
    "model_name = \"casperhansen/llama-3-8b-instruct-awq\"\n",
    "tokenizer = AutoTokenizer.from_pretrained(model_name)\n",
    "handle_stream_responses_task = asyncio.create_task(handle_response(stream_results_dict, tokenizer))\n",
    "stream_results = await handle_stream_responses_task\n",
    "# if not agent.task.static_reference:\n",
    "#     reference_generation_task = generate_reference(agent)\n",
    "#     _, stream_results = await asyncio.gather(\n",
    "#         reference_generation_task, handle_stream_responses_task\n",
    "#     )\n",
    "# else:\n",
    "#     stream_results = await handle_stream_responses_task\n",
    "\n",
    "# log_stream_results(stream_results)\n",
    "\n",
    "# Encapsulate the responses in a response event (dataclass)\n",
    "response_event = DendriteResponseEvent(\n",
    "    stream_results=stream_results, uids=uids, timeout=timeout\n",
    ")\n",
    "\n",
    "bt.logging.info(f\"Created DendriteResponseEvent:\\n {response_event}\")\n",
    "# Reward the responses and get the reward result (dataclass)\n",
    "# This contains a list of RewardEvents but can be exported as a dict (column-wise) for logging etc\n",
    "# reward_result = RewardResult(\n",
    "#     self.reward_pipeline,\n",
    "#     agent=agent,\n",
    "#     response_event=response_event,\n",
    "#     device=self.device,\n",
    "# )\n",
    "# bt.logging.info(f\"Created RewardResult:\\n {reward_result}\")\n",
    "\n",
    "# best_response = response_event.completions[reward_result.rewards.argmax()]"
   ]
  },
  {
   "cell_type": "code",
   "execution_count": 53,
   "metadata": {},
   "outputs": [
    {
     "data": {
      "text/plain": [
       "[SynapseStreamResult(exception=UnboundLocalError(\"local variable 'chunk' referenced before assignment\"), uid=166, accumulated_chunks=[], accumulated_chunks_timings=[], tokens_per_chunk=[], synapse=StreamPromptingSynapse(required_hash_fields=['messages'], roles=['user'], messages=['failure'], completion=''))]"
      ]
     },
     "execution_count": 53,
     "metadata": {},
     "output_type": "execute_result"
    }
   ],
   "source": [
    "stream_results"
   ]
  },
  {
   "cell_type": "code",
   "execution_count": 44,
   "metadata": {},
   "outputs": [
    {
     "data": {
      "text/plain": [
       "DendriteResponseEvent(uids=[166], completions=[''], timings=[0], status_messages=['Service at 194.68.245.74:8091/StreamPromptingSynapse unavailable.'], status_codes=[503])"
      ]
     },
     "execution_count": 44,
     "metadata": {},
     "output_type": "execute_result"
    }
   ],
   "source": [
    "response_event"
   ]
  },
  {
   "cell_type": "code",
   "execution_count": 35,
   "metadata": {},
   "outputs": [
    {
     "data": {
      "text/plain": [
       "[<async_generator object DendriteMixin.call_stream at 0x7f2dc3d30fc0>]"
      ]
     },
     "execution_count": 35,
     "metadata": {},
     "output_type": "execute_result"
    }
   ],
   "source": [
    "streams_responses"
   ]
  },
  {
   "cell_type": "code",
   "execution_count": null,
   "metadata": {},
   "outputs": [],
   "source": [
    "# Function to send a request to a single validator\n",
    "async def send_request_to_validator(dendrite, uid):\n",
    "    axon_info = subnet.axons[uid.item()]\n",
    "    response = await dendrite.query(\n",
    "        axons=[axon_info],\n",
    "        synapse=request_payload,\n",
    "        timeout=17  # Adjust timeout as needed\n",
    "    )\n",
    "    return response\n",
    "\n",
    "# Function to send requests to all validators\n",
    "async def send_requests_to_all_validators(dendrite, active_uids):\n",
    "    tasks = [send_request_to_validator(dendrite, uid) for uid in active_uids]\n",
    "    responses = await asyncio.gather(*tasks, return_exceptions=True)\n",
    "    return responses\n",
    "\n",
    "# Initialize Dendrite\n",
    "dendrite = bt.dendrite(wallet=wallet)\n",
    "\n",
    "# Run the function to send requests\n",
    "responses = asyncio.run(send_requests_to_all_validators(dendrite, active_uids))\n",
    "\n",
    "# Process responses\n",
    "for response in responses:\n",
    "    if isinstance(response, Exception):\n",
    "        print(f\"Request failed with exception: {response}\")\n",
    "    else:\n",
    "        print(f\"Received response: {response}\")\n"
   ]
  }
 ],
 "metadata": {
  "kernelspec": {
   "display_name": "venv",
   "language": "python",
   "name": "python3"
  },
  "language_info": {
   "codemirror_mode": {
    "name": "ipython",
    "version": 3
   },
   "file_extension": ".py",
   "mimetype": "text/x-python",
   "name": "python",
   "nbconvert_exporter": "python",
   "pygments_lexer": "ipython3",
   "version": "3.10.12"
  }
 },
 "nbformat": 4,
 "nbformat_minor": 2
}
