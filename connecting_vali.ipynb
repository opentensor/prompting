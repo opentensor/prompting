{
 "cells": [
  {
   "cell_type": "code",
   "execution_count": 39,
   "metadata": {},
   "outputs": [],
   "source": [
    "# https://docs.bittensor.com/subnets/register-validate-mine#check-the-permit-status\n",
    "\"\"\"\n",
    "Except in Subnet 1, all subnets have 256 UID slots per subnet. Of these 256 UID slots,\n",
    "a subnet can have a maximum of 64 subnet validator UIDs and 192 (i.e., 256-64) UIDs for subnet miners.\n",
    "\"\"\"\n",
    "\n",
    "import bittensor as bt\n",
    "import asyncio\n",
    "\n",
    "# NET_UID = 61\n",
    "NET_UID = 170\n",
    "NETWORK = \"test\"\n",
    "WALLET = \"validator\""
   ]
  },
  {
   "cell_type": "code",
   "execution_count": 40,
   "metadata": {},
   "outputs": [
    {
     "name": "stderr",
     "output_type": "stream",
     "text": [
      "INFO:bittensor: - Connected to test network and wss://test.finney.opentensor.ai:443/. - \n",
      "INFO:bittensor: - Connected to test network and wss://test.finney.opentensor.ai:443/. - \n"
     ]
    },
    {
     "name": "stdout",
     "output_type": "stream",
     "text": [
      "Hotkey 5Fk35HgrTqqUffK7WN8FG4euZ8MpKx35mUYz9kgwj3UDnNHr is registered. UID: 0\n"
     ]
    }
   ],
   "source": [
    "# Initialize your wallet\n",
    "wallet = bt.wallet(name=WALLET)\n",
    "\n",
    "# Initialize the subtensor\n",
    "subtensor = bt.subtensor(network=NETWORK)\n",
    "\n",
    "# Fetch the metagraph\n",
    "subnet = subtensor.metagraph(netuid=NET_UID)\n",
    "\n",
    "# Replace below with your SS58 hotkey \n",
    "hotkey = wallet.hotkey.ss58_address\n",
    "my_uid = subnet.hotkeys.index(wallet.hotkey.ss58_address)\n",
    "sub = bt.subtensor(NETWORK)\n",
    "mg = sub.metagraph(NET_UID)\n",
    "if hotkey not in mg.hotkeys:\n",
    "    print(f\"Hotkey {hotkey} deregistered\")\n",
    "else:\n",
    "    print(f\"Hotkey {hotkey} is registered. UID: {my_uid}\")"
   ]
  },
  {
   "cell_type": "code",
   "execution_count": 41,
   "metadata": {},
   "outputs": [
    {
     "name": "stdout",
     "output_type": "stream",
     "text": [
      "Active UIDs (total: 2): [0, 1]\n",
      "My hotkey is active: True\n",
      "Is val permit: True\n",
      "1000+ TAO:\n"
     ]
    }
   ],
   "source": [
    "# Extract active UIDs\n",
    "active_uids = subnet.uids.tolist()\n",
    "\n",
    "# Print the active UIDs\n",
    "print(f\"Active UIDs (total: {len(active_uids)}): {active_uids}\")\n",
    "print(f\"My hotkey is active: {my_uid in active_uids}\")\n",
    "print(f\"Is val permit: {subnet.validator_permit[my_uid]}\")\n",
    "print(f\"1000+ TAO:\")"
   ]
  },
  {
   "cell_type": "code",
   "execution_count": 42,
   "metadata": {},
   "outputs": [
    {
     "name": "stderr",
     "output_type": "stream",
     "text": [
      "Special tokens have been added in the vocabulary, make sure the associated word embeddings are fine-tuned or trained.\n",
      "INFO:bittensor: - Created DendriteResponseEvent:\n",
      " DendriteResponseEvent(uids=[0], completions=['{\"name\":\"StreamPromptingSynapse\",\"timeout\":40.0,\"total_size\":4036,\"header_size\":0,\"dendrite\":{\"status_code\":null,\"status_message\":null,\"process_time\":null,\"ip\":\"194.68.245.74\",\"port\":null,\"version\":701,\"nonce\":16748188472635226,\"uuid\":\"6b47886a-2e1d-11ef-9141-0242c0a80902\",\"hotkey\":\"5Fk35HgrTqqUffK7WN8FG4euZ8MpKx35mUYz9kgwj3UDnNHr\",\"signature\":\"0x0003bf86a3f219bca84df126263784401d524d846ea3834c7e88e21fcb676137fd8de8c3990a5e27e42211e5d5146175eeea06beb4712b7f040d6486e831b58f\"},\"axon\":{\"status_code\":null,\"status_message\":null,\"process_time\":null,\"ip\":\"194.68.245.74\",\"port\":8091,\"version\":null,\"nonce\":null,\"uuid\":null,\"hotkey\":\"5Fk35HgrTqqUffK7WN8FG4euZ8MpKx35mUYz9kgwj3UDnNHr\",\"signature\":null},\"computed_body_hash\":\"\",\"required_hash_fields\":[\"messages\"],\"roles\":[\"user\"],\"messages\":[\"Organic prompt query. Question: Capital of Zimbabwe?\"],\"completion\":\"\"}'], timings=[11.840179920196533], status_messages=['Success'], status_codes=[200]) - \n"
     ]
    }
   ],
   "source": [
    "# Sample validators.\n",
    "# Define your request payload (e.g., a text prompting request)\n",
    "# import time\n",
    "from prompting.protocol import StreamPromptingSynapse\n",
    "# request_payload = bt.synapse.TextPrompting(\n",
    "#     text=\"Hello, can you process this request?\"\n",
    "# )\n",
    "# request_payload\n",
    "\n",
    "# Get the list of uids to query for this step.\n",
    "# uids = get_random_uids(self, k=k, exclude=exclude or []).to(self.device)\n",
    "# uids = get_random_uids(self, k=k, exclude=exclude or []).to(self.device)\n",
    "# uids_cpu = uids.cpu().tolist()\n",
    "\n",
    "uids = [my_uid]\n",
    "axons = [subnet.axons[uid] for uid in uids]\n",
    "\n",
    "# # Directly call dendrite and process responses in parallel\n",
    "dendrite = bt.dendrite(wallet=wallet)\n",
    "roles = [\"user\"]\n",
    "messages = [\"Organic prompt query. Question: Capital of Zimbabwe?\"]\n",
    "timeout = 40\n",
    "streams_responses = await dendrite(\n",
    "    axons=axons,\n",
    "    synapse=StreamPromptingSynapse(roles=roles, messages=messages),\n",
    "    timeout=timeout,\n",
    "    deserialize=False,\n",
    "    streaming=True,\n",
    ")\n",
    "# Prepare the task for handling stream responses\n",
    "from prompting.dendrite import DendriteResponseEvent\n",
    "from prompting.forward import handle_response\n",
    "from transformers import AutoTokenizer\n",
    "\n",
    "stream_results_dict = dict(zip(uids, streams_responses))\n",
    "model_name = \"casperhansen/llama-3-8b-instruct-awq\"\n",
    "tokenizer = AutoTokenizer.from_pretrained(model_name)\n",
    "handle_stream_responses_task = asyncio.create_task(handle_response(stream_results_dict, tokenizer))\n",
    "stream_results = await handle_stream_responses_task\n",
    "response_event = DendriteResponseEvent(\n",
    "    stream_results=stream_results, uids=uids, timeout=timeout\n",
    ")\n",
    "\n",
    "bt.logging.info(f\"Created DendriteResponseEvent:\\n {response_event}\")"
   ]
  },
  {
   "cell_type": "code",
   "execution_count": 53,
   "metadata": {},
   "outputs": [
    {
     "data": {
      "text/plain": [
       "[SynapseStreamResult(exception=UnboundLocalError(\"local variable 'chunk' referenced before assignment\"), uid=166, accumulated_chunks=[], accumulated_chunks_timings=[], tokens_per_chunk=[], synapse=StreamPromptingSynapse(required_hash_fields=['messages'], roles=['user'], messages=['failure'], completion=''))]"
      ]
     },
     "execution_count": 53,
     "metadata": {},
     "output_type": "execute_result"
    }
   ],
   "source": [
    "stream_results"
   ]
  },
  {
   "cell_type": "code",
   "execution_count": 44,
   "metadata": {},
   "outputs": [
    {
     "data": {
      "text/plain": [
       "DendriteResponseEvent(uids=[166], completions=[''], timings=[0], status_messages=['Service at 194.68.245.74:8091/StreamPromptingSynapse unavailable.'], status_codes=[503])"
      ]
     },
     "execution_count": 44,
     "metadata": {},
     "output_type": "execute_result"
    }
   ],
   "source": [
    "response_event"
   ]
  },
  {
   "cell_type": "code",
   "execution_count": 35,
   "metadata": {},
   "outputs": [
    {
     "data": {
      "text/plain": [
       "[<async_generator object DendriteMixin.call_stream at 0x7f2dc3d30fc0>]"
      ]
     },
     "execution_count": 35,
     "metadata": {},
     "output_type": "execute_result"
    }
   ],
   "source": [
    "streams_responses"
   ]
  }
 ],
 "metadata": {
  "kernelspec": {
   "display_name": "venv",
   "language": "python",
   "name": "python3"
  },
  "language_info": {
   "codemirror_mode": {
    "name": "ipython",
    "version": 3
   },
   "file_extension": ".py",
   "mimetype": "text/x-python",
   "name": "python",
   "nbconvert_exporter": "python",
   "pygments_lexer": "ipython3",
   "version": "3.10.12"
  }
 },
 "nbformat": 4,
 "nbformat_minor": 2
}
